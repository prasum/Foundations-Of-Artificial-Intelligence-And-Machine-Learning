{
 "cells": [
  {
   "cell_type": "markdown",
   "metadata": {},
   "source": [
    "# Scalable Data Mining: Assignment 1\n",
    "\n",
    "## Movie recommendation using SVD\n",
    "\n",
    "In this assignment, you will perform the following tasks.\n",
    "\n",
    "1. Load the MovieLens data and Convert the data into a matrix (for now, let it be dense)\n",
    "2. (Optional: if the data is too big to handle, choose a subset of the ratings)\n",
    "3. Leave out some non zero entries as a test set\n",
    "4. Perform normalization \n",
    "5. Perform SVD\n",
    "6. Compute the low rank ratings matrix according to the basic latent factor model\n",
    "7. Test performance against the test data that is left out\n",
    "\n",
    "First, download the data from: https://grouplens.org/datasets/movielens/\n",
    "\n",
    "There are two versions recommended for education and development: ml-latest and ml-latest-small. It is recommended to download the small version and complete this assignment. However, if you can manage the larger version, you are welcome to do so. The ratings.csv file is the one you need to use for this assignment. \n",
    "\n",
    "### What to submit: \n",
    "\n",
    "Please submit your jupyter notebook file and a brief readme. You may mention any challenges you encountered, or any comments about the experiments you performed (for example, your choice of k for SVD). Please name both your files with your roll number. For example, if your roll number is AI007, your files should be named `ai007.ipynb` and `ai007.txt` respectively."
   ]
  },
  {
   "cell_type": "markdown",
   "metadata": {},
   "source": [
    "### 1. Load the dataset and convert the data into a matrix\n",
    "\n",
    "Load the ratings.csv file and convert the data into a matrix R. Depending on how you load it, your movies may be rows or columns (and users vice versa). Mention that in the comment. "
   ]
  },
  {
   "cell_type": "code",
   "execution_count": 1,
   "metadata": {},
   "outputs": [
    {
     "data": {
      "text/plain": [
       "array([[4. , 0. , 4. , ..., 0. , 0. , 0. ],\n",
       "       [0. , 0. , 0. , ..., 0. , 0. , 0. ],\n",
       "       [0. , 0. , 0. , ..., 0. , 0. , 0. ],\n",
       "       ...,\n",
       "       [2.5, 2. , 2. , ..., 0. , 0. , 0. ],\n",
       "       [3. , 0. , 0. , ..., 0. , 0. , 0. ],\n",
       "       [5. , 0. , 0. , ..., 0. , 0. , 0. ]])"
      ]
     },
     "execution_count": 1,
     "metadata": {},
     "output_type": "execute_result"
    }
   ],
   "source": [
    "# Write code here (placeholder), with the required imports. Finally, your matrix should be called A.\n",
    "import pandas as pd\n",
    "import numpy as np\n",
    "ratings_df=pd.read_csv('ratings.csv')\n",
    "#ratings_df.head()\n",
    "# Mention: for my matrix, the movies are columns and the users are rows\n",
    "ratings_df_pivot = ratings_df.pivot(index = 'userId', columns ='movieId', values = 'rating').fillna(0)\n",
    "#ratings_df_pivot.head()\n",
    "# R =\n",
    "R = ratings_df_pivot.values\n",
    "R\n",
    "#print(np.count_nonzero(~np.isnan(R[6])))"
   ]
  },
  {
   "cell_type": "markdown",
   "metadata": {},
   "source": [
    "### 2. Optional: Reduce the size of the matrix\n",
    "\n",
    "If you failed trying to run SVD with your matrix due to computational resources, reduce the size of the matrix and call the new matrix R. If you did not need to reduce the size of R, then simply set skip this step."
   ]
  },
  {
   "cell_type": "code",
   "execution_count": 2,
   "metadata": {},
   "outputs": [],
   "source": [
    "# R = "
   ]
  },
  {
   "cell_type": "markdown",
   "metadata": {},
   "source": [
    "### 3. Set your test set apart\n",
    "\n",
    "Randomly choose about 2000 non-zero entries in R (2000 known ratings given by users to certain items) and create the test matrix B. Define A to be the rest of the non-zero entries. Essentially, A + B should be same as R. After the next few lines of code, you should have two matrices A and B. \n",
    "\n",
    "Note: A and B should have no common non-zero entry. The task here is to predict the zero (unknown) entries in A and test them against the available non-zero (known) entries in B."
   ]
  },
  {
   "cell_type": "markdown",
   "metadata": {},
   "source": [
    "a) For 2000 non-zero samples, randomly selected 100 users who had given some ratings to a sample of randomly selected 20 movies each."
   ]
  },
  {
   "cell_type": "code",
   "execution_count": 3,
   "metadata": {},
   "outputs": [
    {
     "name": "stdout",
     "output_type": "stream",
     "text": [
      "[[4.  0.  4.  ... 0.  0.  0. ]\n",
      " [0.  0.  0.  ... 0.  0.  0. ]\n",
      " [0.  0.  0.  ... 0.  0.  0. ]\n",
      " ...\n",
      " [2.5 2.  2.  ... 0.  0.  0. ]\n",
      " [3.  0.  0.  ... 0.  0.  0. ]\n",
      " [5.  0.  0.  ... 0.  0.  0. ]]\n"
     ]
    }
   ],
   "source": [
    "def train_test_split(ratings):\n",
    "    test = np.zeros(ratings.shape)\n",
    "    test_copy=np.zeros((100,20))\n",
    "    train = ratings.copy()\n",
    "    t=[]\n",
    "    c=0\n",
    "   \n",
    "    n = ratings.shape[0]  # for 2 random indices\n",
    "    user=np.empty((0))\n",
    "    for i in np.arange(n):\n",
    "        user=np.append(user,i)\n",
    "    index = np.random.choice(user, n, replace=False)\n",
    "    index=index.astype('int')\n",
    "    for user in index:\n",
    "        if(c==100):\n",
    "            break\n",
    "        test_ratings = np.random.choice(ratings[user, :].nonzero()[0], \n",
    "                                        size=20, \n",
    "                                        replace=False)\n",
    "        #print(test_ratings)\n",
    "        train[user, test_ratings] = 0.\n",
    "        c=c+1\n",
    "        #print(c)\n",
    "        test[user, test_ratings] = ratings[user, test_ratings]\n",
    "        t.append(test[user, test_ratings])\n",
    "    # Test and training are truly disjoint\n",
    "    assert(np.all((train * test) == 0)) \n",
    "    return train, test\n",
    "# B = \n",
    "# A = \n",
    "A,B=train_test_split(R)\n",
    "print(A)\n",
    "# print(B)"
   ]
  },
  {
   "cell_type": "markdown",
   "metadata": {},
   "source": [
    "### 4. Normalize and center \n",
    "\n",
    "Please note that in A, B or R, the zero entries do not mean the corresponding ratings are zero. They are just unknown. Hence, you need to impute the missing (zero now) entries of A by the average of the known entries (row or column depending on how you have loaded your matrix) for each item. Call this matrix A1.\n",
    "\n",
    "Then, subtract the average rating given by each user from the corresponding row (or column). Call this matrix A2."
   ]
  },
  {
   "cell_type": "markdown",
   "metadata": {},
   "source": [
    "a) Here row mean is calculated i.e. average rating given by user to movies."
   ]
  },
  {
   "cell_type": "code",
   "execution_count": 4,
   "metadata": {},
   "outputs": [
    {
     "name": "stdout",
     "output_type": "stream",
     "text": [
      "[[4.  nan 4.  ... nan nan nan]\n",
      " [nan nan nan ... nan nan nan]\n",
      " [nan nan nan ... nan nan nan]\n",
      " ...\n",
      " [2.5 2.  2.  ... nan nan nan]\n",
      " [3.  nan nan ... nan nan nan]\n",
      " [5.  nan nan ... nan nan nan]]\n"
     ]
    },
    {
     "name": "stderr",
     "output_type": "stream",
     "text": [
      "/opt/anaconda3/lib/python3.7/site-packages/ipykernel_launcher.py:4: RuntimeWarning: Mean of empty slice\n",
      "  after removing the cwd from sys.path.\n"
     ]
    },
    {
     "name": "stdout",
     "output_type": "stream",
     "text": [
      "[[4.         4.36637931 4.         ... 4.36637931 4.36637931 4.36637931]\n",
      " [3.94827586 3.94827586 3.94827586 ... 3.94827586 3.94827586 3.94827586]\n",
      " [2.43589744 2.43589744 2.43589744 ... 2.43589744 2.43589744 2.43589744]\n",
      " ...\n",
      " [2.5        2.         2.         ... 3.13417569 3.13417569 3.13417569]\n",
      " [3.         3.27027027 3.27027027 ... 3.27027027 3.27027027 3.27027027]\n",
      " [5.         3.68855607 3.68855607 ... 3.68855607 3.68855607 3.68855607]]\n",
      "[[-0.36637931  0.         -0.36637931 ...  0.          0.\n",
      "   0.        ]\n",
      " [ 0.          0.          0.         ...  0.          0.\n",
      "   0.        ]\n",
      " [ 0.          0.          0.         ...  0.          0.\n",
      "   0.        ]\n",
      " ...\n",
      " [-0.63417569 -1.13417569 -1.13417569 ...  0.          0.\n",
      "   0.        ]\n",
      " [-0.27027027  0.          0.         ...  0.          0.\n",
      "   0.        ]\n",
      " [ 1.31144393  0.          0.         ...  0.          0.\n",
      "   0.        ]]\n"
     ]
    }
   ],
   "source": [
    "A[A == 0] = np.NaN\n",
    "A1=A.copy()\n",
    "print(A1)\n",
    "row_mean = np.nanmean(A1, axis=1)\n",
    "inds = np.where(np.isnan(A1))\n",
    "A1[inds] = np.take(row_mean, inds[0])\n",
    "A1[np.isnan(A1)] = 0.\n",
    "print(A1)\n",
    "A2=A1-row_mean.reshape(-1,1)\n",
    "print(A2)\n",
    "A2[np.isnan(A2)] = 0.\n",
    "A2=A2.astype(np.float64)\n",
    "# A1 = \n",
    "# A2 = \n",
    "row_mean[np.isnan(row_mean)] = 0."
   ]
  },
  {
   "cell_type": "markdown",
   "metadata": {},
   "source": [
    "### 5. Compute SVD \n",
    "\n",
    "Compute SVD of the matrix A2."
   ]
  },
  {
   "cell_type": "code",
   "execution_count": 5,
   "metadata": {},
   "outputs": [],
   "source": [
    "# Use your choice of variables for U, Sigma and V_transpose\n",
    "u,s,vt=np.linalg.svd(A2,full_matrices=False)\n",
    "rank=np.linalg.matrix_rank(A2)\n",
    "# Compute SVD of A2"
   ]
  },
  {
   "cell_type": "markdown",
   "metadata": {},
   "source": [
    "### 6. Compute the low rank approximation \n",
    "\n",
    "Compute the low rank approximation of A2. The choice of k is up to you, but we would encourage you to try out a few different k and see which works better. Mention your experience in the readme report."
   ]
  },
  {
   "cell_type": "code",
   "execution_count": 6,
   "metadata": {},
   "outputs": [],
   "source": [
    "# Get Ak matrix of rank k.\n",
    "def calc_A_k(u,s,vt,r):\n",
    "    u=u[:,:r]\n",
    "    vt=vt[:r,:]\n",
    "    s=s[:r]\n",
    "    s=np.diag(s)\n",
    "    A_k=np.dot(np.dot(u,s),vt)\n",
    "    return A_k"
   ]
  },
  {
   "cell_type": "markdown",
   "metadata": {},
   "source": [
    "<ul><li>For low rank k approximation used Eckart-Young Theorem.</li>\n",
    "<li>Eckart-Young Theorem states that for any Ak,argmin(k<=r) where r is the rank of matrix A then the 2 norm error i.e. ||A-Ak|| is equal to the first singular value(k+1) that we did not use.</li>\n",
    "<li>From the above,the low rank k value approximation for A2 matrix was obtained by storing the absolute minimum difference between ||A-Ak|| and singular_value(k+1) i.e. converges to 0 in a list and getting the minimum argument k corresponding to it.</li>\n",
    "<li>The minimum argument k is used to reconstruct the Ak matrix and RMSE error is obtained correspondingly.</li></ul>"
   ]
  },
  {
   "cell_type": "code",
   "execution_count": 7,
   "metadata": {},
   "outputs": [],
   "source": [
    "# Calculate low rank k using Eckart-Young Theorem.Computationally the snippet will take some time to run due to matrix dimensionality.\n",
    "approxk=dict()\n",
    "for i in range(0,s.size-1):\n",
    "    z=calc_A_k(u,s,vt,i+1)\n",
    "    v=np.linalg.norm(A2-z,2)\n",
    "    approxk[i]=abs(v-s[i+1])\n",
    "#print(approxk)"
   ]
  },
  {
   "cell_type": "code",
   "execution_count": 8,
   "metadata": {},
   "outputs": [
    {
     "name": "stdout",
     "output_type": "stream",
     "text": [
      "31\n"
     ]
    }
   ],
   "source": [
    "# Set your k\n",
    "minval = min(approxk.values())\n",
    "result = list(filter(lambda x: approxk[x]==minval, approxk))\n",
    "k = min(result)\n",
    "print(k+1)\n",
    "# Compute low rank Ak\n",
    "# Ak =\n",
    "Ak=calc_A_k(u,s,vt,k+1)"
   ]
  },
  {
   "cell_type": "markdown",
   "metadata": {},
   "source": [
    "### 7. Test the performance\n",
    "\n",
    "Compute the root-mean-squared-error (RMSE) against the known ratings to test how the method performed, using A1 (which predicts ratings just by average known ratings) and Ak against B.\n",
    "\n",
    "The RMSE is the square root of the average squared errors between the known ratings and the predicted ratings. For our set up, consider only the pairs of (user,item) pairs (i,j) for which B[i,j] > 0. Then compute the square root of the average squared difference between A2 and B (also Ak and B) only for this set of pairs (i,j). \n",
    "\n",
    "$$RMSE(A2, B) = \\sqrt{\\frac{\\sum_{i,j: B_{ij} > 0}(A2_{ij} - B_{ij})^2}{\\sum_{i,j: B_{ij} > 0} 1}}.$$\n",
    "\n",
    "$$RMSE(Ak, B) = \\sqrt{\\frac{\\sum_{i,j: B_{ij} > 0}(Ak_{ij} - B_{ij})^2}{\\sum_{i,j: B_{ij} > 0} 1}}.$$"
   ]
  },
  {
   "cell_type": "markdown",
   "metadata": {},
   "source": [
    "Based on positive ratings of B the indices are calculated which are used correspondingly in A2 and Ak respectively for performing RMSE calculations."
   ]
  },
  {
   "cell_type": "code",
   "execution_count": 9,
   "metadata": {},
   "outputs": [
    {
     "name": "stdout",
     "output_type": "stream",
     "text": [
      "RMSE with A2 is 0.658350.\n",
      "RMSE with Ak is 0.613216.\n"
     ]
    }
   ],
   "source": [
    "# Write your code here (several lines)\n",
    "# At the end of the code, your must have two variables with the RMSEs (will not be 0.0), as given below\n",
    "RMSE_A2 = 0.0\n",
    "RMSE_Ak = 0.0\n",
    "result = np.where(B > 0)\n",
    "def compute_RMSE(X):\n",
    "    n=0\n",
    "    rsum=0.0\n",
    "    for i in result[0]:\n",
    "        rsum=rsum+(X[i][result[1][i]]-B[i][result[1][i]])**2\n",
    "        n=n+1\n",
    "    rmse=np.sqrt(rsum/n)\n",
    "    return rmse\n",
    "RMSE_A2=compute_RMSE(A2)\n",
    "RMSE_Ak=compute_RMSE(Ak)\n",
    "print(\"RMSE with A2 is %f.\" %RMSE_A2)\n",
    "print(\"RMSE with Ak is %f.\" %RMSE_Ak)"
   ]
  }
 ],
 "metadata": {
  "kernelspec": {
   "display_name": "Python 3",
   "language": "python",
   "name": "python3"
  },
  "language_info": {
   "codemirror_mode": {
    "name": "ipython",
    "version": 3
   },
   "file_extension": ".py",
   "mimetype": "text/x-python",
   "name": "python",
   "nbconvert_exporter": "python",
   "pygments_lexer": "ipython3",
   "version": "3.7.3"
  }
 },
 "nbformat": 4,
 "nbformat_minor": 2
}
