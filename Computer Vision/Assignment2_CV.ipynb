{
  "nbformat": 4,
  "nbformat_minor": 0,
  "metadata": {
    "colab": {
      "name": "Copy of Untitled0.ipynb",
      "version": "0.3.2",
      "provenance": [],
      "collapsed_sections": []
    },
    "kernelspec": {
      "name": "python3",
      "display_name": "Python 3"
    }
  },
  "cells": [
    {
      "cell_type": "code",
      "metadata": {
        "id": "cTlnRWPZShUk",
        "colab_type": "code",
        "outputId": "33843859-91d6-4472-f6c1-a657f3155a1f",
        "colab": {
          "base_uri": "https://localhost:8080/",
          "height": 520
        }
      },
      "source": [
        "!pip install numpy\n",
        "!pip install pandas\n",
        "!pip install scikit-image\n",
        "!pip install scikit-learn"
      ],
      "execution_count": 2,
      "outputs": [
        {
          "output_type": "stream",
          "text": [
            "Requirement already satisfied: numpy in /usr/local/lib/python3.6/dist-packages (1.16.4)\n",
            "Requirement already satisfied: pandas in /usr/local/lib/python3.6/dist-packages (0.24.2)\n",
            "Requirement already satisfied: pytz>=2011k in /usr/local/lib/python3.6/dist-packages (from pandas) (2018.9)\n",
            "Requirement already satisfied: numpy>=1.12.0 in /usr/local/lib/python3.6/dist-packages (from pandas) (1.16.4)\n",
            "Requirement already satisfied: python-dateutil>=2.5.0 in /usr/local/lib/python3.6/dist-packages (from pandas) (2.5.3)\n",
            "Requirement already satisfied: six>=1.5 in /usr/local/lib/python3.6/dist-packages (from python-dateutil>=2.5.0->pandas) (1.12.0)\n",
            "Requirement already satisfied: scikit-image in /usr/local/lib/python3.6/dist-packages (0.15.0)\n",
            "Requirement already satisfied: PyWavelets>=0.4.0 in /usr/local/lib/python3.6/dist-packages (from scikit-image) (1.0.3)\n",
            "Requirement already satisfied: pillow>=4.3.0 in /usr/local/lib/python3.6/dist-packages (from scikit-image) (4.3.0)\n",
            "Requirement already satisfied: scipy>=0.17.0 in /usr/local/lib/python3.6/dist-packages (from scikit-image) (1.3.1)\n",
            "Requirement already satisfied: matplotlib!=3.0.0,>=2.0.0 in /usr/local/lib/python3.6/dist-packages (from scikit-image) (3.0.3)\n",
            "Requirement already satisfied: imageio>=2.0.1 in /usr/local/lib/python3.6/dist-packages (from scikit-image) (2.4.1)\n",
            "Requirement already satisfied: networkx>=2.0 in /usr/local/lib/python3.6/dist-packages (from scikit-image) (2.3)\n",
            "Requirement already satisfied: numpy>=1.9.1 in /usr/local/lib/python3.6/dist-packages (from PyWavelets>=0.4.0->scikit-image) (1.16.4)\n",
            "Requirement already satisfied: olefile in /usr/local/lib/python3.6/dist-packages (from pillow>=4.3.0->scikit-image) (0.46)\n",
            "Requirement already satisfied: kiwisolver>=1.0.1 in /usr/local/lib/python3.6/dist-packages (from matplotlib!=3.0.0,>=2.0.0->scikit-image) (1.1.0)\n",
            "Requirement already satisfied: python-dateutil>=2.1 in /usr/local/lib/python3.6/dist-packages (from matplotlib!=3.0.0,>=2.0.0->scikit-image) (2.5.3)\n",
            "Requirement already satisfied: pyparsing!=2.0.4,!=2.1.2,!=2.1.6,>=2.0.1 in /usr/local/lib/python3.6/dist-packages (from matplotlib!=3.0.0,>=2.0.0->scikit-image) (2.4.2)\n",
            "Requirement already satisfied: cycler>=0.10 in /usr/local/lib/python3.6/dist-packages (from matplotlib!=3.0.0,>=2.0.0->scikit-image) (0.10.0)\n",
            "Requirement already satisfied: decorator>=4.3.0 in /usr/local/lib/python3.6/dist-packages (from networkx>=2.0->scikit-image) (4.4.0)\n",
            "Requirement already satisfied: setuptools in /usr/local/lib/python3.6/dist-packages (from kiwisolver>=1.0.1->matplotlib!=3.0.0,>=2.0.0->scikit-image) (41.0.1)\n",
            "Requirement already satisfied: six>=1.5 in /usr/local/lib/python3.6/dist-packages (from python-dateutil>=2.1->matplotlib!=3.0.0,>=2.0.0->scikit-image) (1.12.0)\n",
            "Requirement already satisfied: scikit-learn in /usr/local/lib/python3.6/dist-packages (0.21.3)\n",
            "Requirement already satisfied: scipy>=0.17.0 in /usr/local/lib/python3.6/dist-packages (from scikit-learn) (1.3.1)\n",
            "Requirement already satisfied: joblib>=0.11 in /usr/local/lib/python3.6/dist-packages (from scikit-learn) (0.13.2)\n",
            "Requirement already satisfied: numpy>=1.11.0 in /usr/local/lib/python3.6/dist-packages (from scikit-learn) (1.16.4)\n"
          ],
          "name": "stdout"
        }
      ]
    },
    {
      "cell_type": "markdown",
      "metadata": {
        "id": "W9puPXBjDg33",
        "colab_type": "text"
      },
      "source": [
        "Generation of Hog Feature from Training Set."
      ]
    },
    {
      "cell_type": "code",
      "metadata": {
        "id": "XeUUnGBkR7zv",
        "colab_type": "code",
        "colab": {}
      },
      "source": [
        "import numpy as np\n",
        "import pandas as pd\n",
        "from matplotlib import pyplot as plt\n",
        "from skimage.feature import hog\n",
        "from sklearn import svm\n",
        "from sklearn.metrics import classification_report,accuracy_score,precision_recall_fscore_support\n",
        "df=pd.read_csv('input.csv')\n",
        "df1=df[df['Usage']=='Training']\n",
        "df2=df[(df['Usage']=='PublicTest') | (df['Usage']=='PrivateTest')]\n",
        "hog_features=[]\n",
        "hog_images=[]\n",
        "for index,rows in df1.iterrows():\n",
        "\ts=rows['pixels'].split()\n",
        "\tr=np.array(s).astype('uint8')\n",
        "\tr=r.reshape(48,48)\n",
        "\td,hog_image=hog(r,orientations=8,pixels_per_cell=(4,4),cells_per_block=(1,1),block_norm='L2',visualize=True)\n",
        "\thog_images.append(hog_image)\n",
        "\thog_features.append(d)"
      ],
      "execution_count": 0,
      "outputs": []
    },
    {
      "cell_type": "markdown",
      "metadata": {
        "id": "ZBxZUnkwDxe4",
        "colab_type": "text"
      },
      "source": [
        "Generation of Hog Feature from Test Set."
      ]
    },
    {
      "cell_type": "code",
      "metadata": {
        "id": "bSRNl_2USECF",
        "colab_type": "code",
        "colab": {}
      },
      "source": [
        "test_hog_features=[]\n",
        "test_hog_images=[]\n",
        "for index,rows in df2.iterrows():\n",
        "\ts=rows['pixels'].split()\n",
        "\tr=np.array(s).astype('uint8')\n",
        "\tr=r.reshape(48,48)\n",
        "\td,hog_image=hog(r,orientations=8,pixels_per_cell=(4,4),cells_per_block=(1,1),block_norm='L2',visualize=True)\n",
        "\ttest_hog_images.append(hog_image)\n",
        "\ttest_hog_features.append(d)"
      ],
      "execution_count": 0,
      "outputs": []
    },
    {
      "cell_type": "markdown",
      "metadata": {
        "id": "gaz0p96ID0_g",
        "colab_type": "text"
      },
      "source": [
        "Generation of SVM Classifier Model using the Hog Features generated above and evaluation of training and test set based on model generated."
      ]
    },
    {
      "cell_type": "code",
      "metadata": {
        "id": "kW5S4OIqSF5i",
        "colab_type": "code",
        "colab": {
          "base_uri": "https://localhost:8080/",
          "height": 613
        },
        "outputId": "d9514abb-df2b-485b-e530-95a8a761534c"
      },
      "source": [
        "hog_features=np.array(hog_features)\n",
        "test_hog_features=np.array(test_hog_features)\n",
        "np.savetxt(\"train_hog_features.csv\",hog_features,delimiter=\",\",header=\"pixels\",comments='')\n",
        "np.savetxt(\"test_hog_features.csv\",test_hog_features,delimiter=\",\",header=\"pixels\",comments='')\n",
        "labels=df1['emotion (label)'].values.reshape(len(df1.index),1).ravel()\n",
        "test_labels=df2['emotion (label)'].values.reshape(len(df2.index),1).ravel()\n",
        "clf=svm.SVC()\n",
        "clf.fit(hog_features,labels)\n",
        "y_train_pred=clf.predict(hog_features)\n",
        "y_pred=clf.predict(test_hog_features)\n",
        "np.save('PredictedLabels',y_pred)\n",
        "print(\"Training Evaluation\")\n",
        "print()\n",
        "print(classification_report(labels, y_train_pred))\n",
        "precision,recall,f1,_=precision_recall_fscore_support(labels, y_train_pred,average='weighted')\n",
        "print(\"Precision\"+\":\"+\" \"+str(precision))\n",
        "print(\"Recall\"+\":\"+\" \"+str(recall))\n",
        "print(\"F1\"+\":\"+\" \"+str(f1))\n",
        "print()\n",
        "print(\"Testing Evaluation\")\n",
        "print()\n",
        "print(classification_report(test_labels, y_pred))\n",
        "precision,recall,f1,_=precision_recall_fscore_support(test_labels, y_pred,average='weighted')\n",
        "print(\"Precision\"+\":\"+\" \"+str(precision))\n",
        "print(\"Recall\"+\":\"+\" \"+str(recall))\n",
        "print(\"F1\"+\":\"+\" \"+str(f1))"
      ],
      "execution_count": 3,
      "outputs": [
        {
          "output_type": "stream",
          "text": [
            "/usr/local/lib/python3.6/dist-packages/sklearn/svm/base.py:193: FutureWarning: The default value of gamma will change from 'auto' to 'scale' in version 0.22 to account better for unscaled features. Set gamma explicitly to 'auto' or 'scale' to avoid this warning.\n",
            "  \"avoid this warning.\", FutureWarning)\n"
          ],
          "name": "stderr"
        },
        {
          "output_type": "stream",
          "text": [
            "Training Evaluation\n",
            "\n",
            "              precision    recall  f1-score   support\n",
            "\n",
            "           0       0.83      0.97      0.90     21494\n",
            "           1       0.83      0.41      0.55      7215\n",
            "\n",
            "    accuracy                           0.83     28709\n",
            "   macro avg       0.83      0.69      0.72     28709\n",
            "weighted avg       0.83      0.83      0.81     28709\n",
            "\n",
            "Precision: 0.8297181867828234\n",
            "Recall: 0.8304016162179108\n",
            "F1: 0.8086522555899983\n",
            "\n",
            "Testing Evaluation\n",
            "\n",
            "              precision    recall  f1-score   support\n",
            "\n",
            "           0       0.83      0.97      0.89      5404\n",
            "           1       0.80      0.41      0.54      1774\n",
            "\n",
            "    accuracy                           0.83      7178\n",
            "   macro avg       0.82      0.69      0.72      7178\n",
            "weighted avg       0.82      0.83      0.81      7178\n",
            "\n",
            "Precision: 0.8244158716594597\n",
            "Recall: 0.8282251323488437\n",
            "F1: 0.8065426433113733\n"
          ],
          "name": "stdout"
        }
      ]
    },
    {
      "cell_type": "markdown",
      "metadata": {
        "id": "d1P31kRaEHK4",
        "colab_type": "text"
      },
      "source": [
        "Storing the Predicted Labels and corresponding Row Indices in input file in csv format."
      ]
    },
    {
      "cell_type": "code",
      "metadata": {
        "id": "FU2vHP6ySNut",
        "colab_type": "code",
        "colab": {
          "base_uri": "https://localhost:8080/",
          "height": 147
        },
        "outputId": "6c8cbee6-45f5-410a-fed6-a7083da14458"
      },
      "source": [
        "a=np.load('PredictedLabels.npy')\n",
        "b=a.tolist()\n",
        "m=df.index[(df['Usage']=='PublicTest') | (df['Usage']=='PrivateTest')]\n",
        "m=m.tolist()\n",
        "r=[]\n",
        "for i in range(len(a)):\n",
        "\tr.append([a[i],m[i]])\n",
        "r=np.array(r)\n",
        "print(r)\n",
        "np.savetxt(\"Predicted_Test_Labels.csv\",r,delimiter=\",\",header=\"Label,Row_Index\",comments='')"
      ],
      "execution_count": 4,
      "outputs": [
        {
          "output_type": "stream",
          "text": [
            "[[    0 28709]\n",
            " [    0 28710]\n",
            " [    0 28711]\n",
            " ...\n",
            " [    0 35884]\n",
            " [    0 35885]\n",
            " [    0 35886]]\n"
          ],
          "name": "stdout"
        }
      ]
    }
  ]
}