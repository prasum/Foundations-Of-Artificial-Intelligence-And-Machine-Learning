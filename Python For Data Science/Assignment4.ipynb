{
 "cells": [
  {
   "cell_type": "code",
   "execution_count": 3,
   "metadata": {},
   "outputs": [],
   "source": [
    "import pandas\n",
    "import numpy as np\n",
    "ratings_data=pandas.read_csv('ratings.csv',sep=',')\n",
    "ratings_data_ignore_timestamp=ratings_data.iloc[:,:-1] # ignore timestamp value\n",
    "# pivot of the dataframe taken and the missing values have been filled with 0 during construction\n",
    "ratings_data_ignore_timestamp_pivot=ratings_data_ignore_timestamp.pivot_table(index='user_id',columns='movie_id',values='rating',fill_value=0,dropna=True)"
   ]
  },
  {
   "cell_type": "markdown",
   "metadata": {},
   "source": [
    "a) Computing cosine similarity between two users"
   ]
  },
  {
   "cell_type": "code",
   "execution_count": 4,
   "metadata": {},
   "outputs": [
    {
     "name": "stdout",
     "output_type": "stream",
     "text": [
      "0.09638153049775161\n"
     ]
    }
   ],
   "source": [
    "def norm_vec(a):\n",
    "    p=a/np.sqrt(np.sum(a**2))\n",
    "    return p\n",
    "\n",
    "u1=pandas.to_numeric(ratings_data_ignore_timestamp_pivot.loc[1,:],errors='coerce')\n",
    "u2=pandas.to_numeric(ratings_data_ignore_timestamp_pivot.loc[2,:],errors='coerce')\n",
    "norm_u1=norm_vec(u1)\n",
    "norm_u2=norm_vec(u2)\n",
    "\n",
    "def dot_prod(a,b):\n",
    "    d=np.dot(a,b)\n",
    "    return d\n",
    "\n",
    "dot_p=dot_prod(norm_u1,norm_u2)\n",
    "print(dot_p)"
   ]
  },
  {
   "cell_type": "markdown",
   "metadata": {},
   "source": [
    "b) Computing cosine similarity between two movies(categories:movie_id)"
   ]
  },
  {
   "cell_type": "code",
   "execution_count": 5,
   "metadata": {},
   "outputs": [
    {
     "data": {
      "text/plain": [
       "0.39034871137323235"
      ]
     },
     "execution_count": 5,
     "metadata": {},
     "output_type": "execute_result"
    }
   ],
   "source": [
    "c1=pandas.to_numeric(ratings_data_ignore_timestamp_pivot.loc[:,1],errors='coerce')\n",
    "c2=pandas.to_numeric(ratings_data_ignore_timestamp_pivot.loc[:,2],errors='coerce')\n",
    "norm_c1=norm_vec(c1)\n",
    "norm_c2=norm_vec(c2)\n",
    "dot_p=dot_prod(norm_c1,norm_c2)\n",
    "dot_p"
   ]
  },
  {
   "cell_type": "markdown",
   "metadata": {},
   "source": [
    "c) Compute Pearson's Similarity between two users"
   ]
  },
  {
   "cell_type": "code",
   "execution_count": 7,
   "metadata": {},
   "outputs": [
    {
     "data": {
      "text/plain": [
       "0.07689583364579552"
      ]
     },
     "execution_count": 7,
     "metadata": {},
     "output_type": "execute_result"
    }
   ],
   "source": [
    "def norm_vec_pcc(a):\n",
    "    m=np.mean(a)\n",
    "    d=a-m\n",
    "    return d\n",
    "\n",
    "u1=pandas.to_numeric(ratings_data_ignore_timestamp_pivot.loc[1,:],errors='coerce')\n",
    "norm_u1=norm_vec_pcc(u1)\n",
    "u2=pandas.to_numeric(ratings_data_ignore_timestamp_pivot.loc[2,:],errors='coerce')\n",
    "norm_u2=norm_vec_pcc(u2)\n",
    "s_norm_u1u2=np.sum(norm_u1*norm_u2)\n",
    "s_norm_u1u1=np.sum(norm_u1**2)\n",
    "s_norm_u2u2=np.sum(norm_u2**2)\n",
    "pcc_u1u2=s_norm_u1u2/np.sqrt(s_norm_u1u1*s_norm_u2u2)\n",
    "pcc_u1u2"
   ]
  },
  {
   "cell_type": "markdown",
   "metadata": {},
   "source": [
    "d) Computing Pearson's Similarity between two movies(categories:movie_id)"
   ]
  },
  {
   "cell_type": "code",
   "execution_count": 8,
   "metadata": {},
   "outputs": [
    {
     "data": {
      "text/plain": [
       "0.2626494508617506"
      ]
     },
     "execution_count": 8,
     "metadata": {},
     "output_type": "execute_result"
    }
   ],
   "source": [
    "def norm_vec_pcc(a):\n",
    "    m=np.mean(a)\n",
    "    d=a-m\n",
    "    return d\n",
    "\n",
    "c1=pandas.to_numeric(ratings_data_ignore_timestamp_pivot.loc[:,1],errors='coerce')\n",
    "norm_c1=norm_vec_pcc(c1)\n",
    "c2=pandas.to_numeric(ratings_data_ignore_timestamp_pivot.loc[:,2],errors='coerce')\n",
    "norm_c2=norm_vec_pcc(c2)\n",
    "s_norm_c1c2=np.sum(norm_c1*norm_c2)\n",
    "s_norm_c1c1=np.sum(norm_c1**2)\n",
    "s_norm_c2c2=np.sum(norm_c2**2)\n",
    "pcc_c1c2=s_norm_c1c2/np.sqrt(s_norm_c1c1*s_norm_c2c2)\n",
    "pcc_c1c2"
   ]
  },
  {
   "cell_type": "markdown",
   "metadata": {},
   "source": [
    "e) Computing Adjusted cosine similarity between two users"
   ]
  },
  {
   "cell_type": "code",
   "execution_count": 17,
   "metadata": {},
   "outputs": [
    {
     "data": {
      "text/plain": [
       "-0.034980767591105785"
      ]
     },
     "execution_count": 17,
     "metadata": {},
     "output_type": "execute_result"
    }
   ],
   "source": [
    "ratings_data_ignore_timestamp_pivot_numeric=ratings_data_ignore_timestamp_pivot.apply(pandas.to_numeric,errors='coerce')\n",
    "\n",
    "def col_avg(df):\n",
    "    avg=df.loc[:,1:].mean(axis=0)\n",
    "    return avg\n",
    "\n",
    "col_mean=col_avg(ratings_data_ignore_timestamp_pivot_numeric)\n",
    "\n",
    "def norm_vec(a,col_mean):\n",
    "    b=a-col_mean\n",
    "    p=b/np.sqrt(np.sum(b**2))\n",
    "    return p\n",
    "\n",
    "norm_u1=norm_vec(u1,col_mean)\n",
    "norm_u2=norm_vec(u2,col_mean)\n",
    "dot_p=dot_prod(norm_u1,norm_u2)\n",
    "dot_p"
   ]
  },
  {
   "cell_type": "markdown",
   "metadata": {},
   "source": [
    "f) Computing Adjusted cosine similarity between two movies(categories:movie_id)"
   ]
  },
  {
   "cell_type": "code",
   "execution_count": 15,
   "metadata": {},
   "outputs": [
    {
     "data": {
      "text/plain": [
       "0.26429521543308254"
      ]
     },
     "execution_count": 15,
     "metadata": {},
     "output_type": "execute_result"
    }
   ],
   "source": [
    "ratings_data_ignore_timestamp_pivot_numeric=ratings_data_ignore_timestamp_pivot.apply(pandas.to_numeric,errors='coerce')\n",
    "\n",
    "def row_avg(df):\n",
    "    avg=df.loc[:,1:].mean(axis=1)\n",
    "    return avg\n",
    "\n",
    "row_mean=row_avg(ratings_data_ignore_timestamp_pivot_numeric)\n",
    "\n",
    "def norm_vec(a,row_mean):\n",
    "    b=a-row_mean\n",
    "    p=b/np.sqrt(np.sum(b**2))\n",
    "    return p\n",
    "\n",
    "c1=ratings_data_ignore_timestamp_pivot_numeric.loc[:,1]\n",
    "c2=ratings_data_ignore_timestamp_pivot_numeric.loc[:,2]\n",
    "norm_c1=norm_vec(c1,row_mean)\n",
    "norm_c2=norm_vec(c2,row_mean)\n",
    "dot_p=dot_prod(norm_c1,norm_c2)\n",
    "dot_p"
   ]
  }
 ],
 "metadata": {
  "kernelspec": {
   "display_name": "Python 3",
   "language": "python",
   "name": "python3"
  },
  "language_info": {
   "codemirror_mode": {
    "name": "ipython",
    "version": 3
   },
   "file_extension": ".py",
   "mimetype": "text/x-python",
   "name": "python",
   "nbconvert_exporter": "python",
   "pygments_lexer": "ipython3",
   "version": "3.6.6"
  }
 },
 "nbformat": 4,
 "nbformat_minor": 2
}
