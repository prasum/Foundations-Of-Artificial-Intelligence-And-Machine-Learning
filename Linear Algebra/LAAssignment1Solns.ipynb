{
 "cells": [
  {
   "cell_type": "markdown",
   "metadata": {},
   "source": [
    "## Assignment 1 Solutions\n",
    "\n",
    "1.\n",
    "\n",
    "a) True as nxn matrices comprises of vectors and vectors are closed under addition and multiplication.\n",
    "\n",
    "b) False as the plane does not contain the origin and thus it is not closed under addition and multiplication so not a subspace.\n",
    "\n",
    "c) True as the Linear span of basis vectors spans the 2D Real space.\n",
    "\n",
    "d) True as the vectors given are not linearily independent so the linear span is a plane.If vectors were linearily independent,then span would be 3D Real space.\n",
    "\n",
    "e) False as the dimension or the count of elements in the basis set should be 2 as it is spanning 2D Real space but it is more than 2 that is 3 so it will form a set of linearly dependent vectors and thus would not form basis.\n",
    "\n",
    "f) True as the set of vectors in B have a linear span as 3D Real space and they also are a part of vector space hence its a basis.\n",
    "\n",
    "g) True as coordinate vector can be found out getting the linear combination of the basis vector and equating it with the given b vector value that is (1,3) so the constants or coefficients we get on solving the linear combination that is x+y=1 and x-y=3 will give (x,y) as (2,-1) that is the desired result.\n",
    "\n",
    "h) False Here T(x) is defining a norm in 3D real space so for it to be linear functional it should satisfy addition and scalar multiplication property and it fails for the second one as $\\|ax \\|=|a|\\|x \\|$ where a is a scalar so here it is taking the modulus value of scalar and also fails on the first one due to triangle inequality property of norm i.e. $\\|x+y \\|<=\\|x \\| + \\|y \\|$\n",
    "\n",
    "i) True as since $T$ is a linear function, $T(x+y) = T(x)+T(y)$ for all vectors $x$ and $y$.\n",
    "Also, $(1,0) + (0,1) = (1,1)$  Alternatively, we can find the coefficients or constants for linear combination of given conditions and solve the two equations to get the constants value and plugging it into the equation with desired input,we get the expected output value.\n",
    "\n",
    "j) False as the dot product of the two vectors is not equal to 0 as 1x1 + -1x1 + 1x1 =1 "
   ]
  },
  {
   "cell_type": "markdown",
   "metadata": {},
   "source": [
    "2.\n",
    "a) Creating vectors a and b with initial data and printing output list for 2a-3b"
   ]
  },
  {
   "cell_type": "code",
   "execution_count": 2,
   "metadata": {},
   "outputs": [
    {
     "name": "stdout",
     "output_type": "stream",
     "text": [
      "[ 2 -1 -3]\n"
     ]
    }
   ],
   "source": [
    "import numpy as np\n",
    "a=np.array([1,1,0])\n",
    "b=np.array([0,1,1])\n",
    "result=2*a-3*b\n",
    "print(result)"
   ]
  },
  {
   "cell_type": "markdown",
   "metadata": {},
   "source": [
    "b) Creating new vector c by concatenating a and b vectors"
   ]
  },
  {
   "cell_type": "code",
   "execution_count": 6,
   "metadata": {},
   "outputs": [
    {
     "name": "stdout",
     "output_type": "stream",
     "text": [
      "[1 1 0 0 1 1]\n"
     ]
    }
   ],
   "source": [
    "c=np.concatenate([a,b])\n",
    "print(c)"
   ]
  },
  {
   "cell_type": "markdown",
   "metadata": {},
   "source": [
    "c) Creating vector d=(a2,b2,b3)"
   ]
  },
  {
   "cell_type": "code",
   "execution_count": 7,
   "metadata": {},
   "outputs": [
    {
     "name": "stdout",
     "output_type": "stream",
     "text": [
      "[1 1 1]\n"
     ]
    }
   ],
   "source": [
    "d=np.array([a[1],b[1],b[2]])\n",
    "print(d)"
   ]
  },
  {
   "cell_type": "markdown",
   "metadata": {},
   "source": [
    "d) Calculating Euclidean Distance between a and b vectors"
   ]
  },
  {
   "cell_type": "code",
   "execution_count": 8,
   "metadata": {},
   "outputs": [
    {
     "name": "stdout",
     "output_type": "stream",
     "text": [
      "1.4142135623730951\n"
     ]
    }
   ],
   "source": [
    "euclideanDistance=np.sqrt(np.sum((a-b)**2))\n",
    "print(euclideanDistance)"
   ]
  },
  {
   "cell_type": "markdown",
   "metadata": {},
   "source": [
    "e) Computing the angle between a+b and a-b vectors"
   ]
  },
  {
   "cell_type": "code",
   "execution_count": 13,
   "metadata": {},
   "outputs": [
    {
     "name": "stdout",
     "output_type": "stream",
     "text": [
      "1.5707963267948966\n",
      "90.0\n"
     ]
    }
   ],
   "source": [
    "p=a+b\n",
    "q=a-b\n",
    "input_radians=[]\n",
    "unit_vector_p= p / np.linalg.norm(p)\n",
    "unit_vector_q= q / np.linalg.norm(q)\n",
    "angle_in_radians=np.arccos(np.clip(np.dot(unit_vector_p, unit_vector_q), -1.0, 1.0))\n",
    "print(angle_in_radians)    # Angle between vectors in Radians\n",
    "input_radians.append(angle_in_radians)\n",
    "angle_in_degrees=np.rad2deg(input_radians)\n",
    "print(angle_in_degrees[0]) # Angle between vectors in Degrees"
   ]
  },
  {
   "cell_type": "markdown",
   "metadata": {},
   "source": [
    "3.\n",
    "a) Create submatrix of given form when A is a symmetric matrix"
   ]
  },
  {
   "cell_type": "code",
   "execution_count": 18,
   "metadata": {},
   "outputs": [
    {
     "name": "stdout",
     "output_type": "stream",
     "text": [
      "[[6.  6.5 4.5]\n",
      " [6.5 3.  7. ]\n",
      " [4.5 7.  1. ]]\n",
      "[[6.  4.5]\n",
      " [4.5 1. ]]\n"
     ]
    }
   ],
   "source": [
    "A = np.random.randint(1,10,size=(3,3))\n",
    "A_symmetric = (A + A.T)/2  # Generate Random Symmetric Matrix\n",
    "print(A_symmetric)\n",
    "A_symmetric_submat=A_symmetric[[0,2]][:,[0,2]] # Generate Submatrix for Symmetric Matrix\n",
    "print(A_symmetric_submat)"
   ]
  },
  {
   "cell_type": "markdown",
   "metadata": {},
   "source": [
    "b) Create submatrix of given form when A is a skew-symmetric matrix"
   ]
  },
  {
   "cell_type": "code",
   "execution_count": 27,
   "metadata": {},
   "outputs": [
    {
     "name": "stdout",
     "output_type": "stream",
     "text": [
      "[[ 0.  -1.5 -2. ]\n",
      " [ 1.5  0.  -4. ]\n",
      " [ 2.   4.   0. ]]\n",
      "[[ 0. -2.]\n",
      " [ 2.  0.]]\n"
     ]
    }
   ],
   "source": [
    "A = np.random.randint(1,10,size=(3,3))\n",
    "A_skewsymmetric = (A - A.T)/2  # Generate Random SkewSymmetric Matrix\n",
    "print(A_skewsymmetric)\n",
    "A_skewsymmetric_submat=A_skewsymmetric[[0,2]][:,[0,2]] # Generate Submatrix for SkewSymmetric Matrix\n",
    "print(A_skewsymmetric_submat)"
   ]
  },
  {
   "cell_type": "markdown",
   "metadata": {},
   "source": [
    "c) Create submatrix of given form when A is a stochastic matrix"
   ]
  },
  {
   "cell_type": "code",
   "execution_count": 28,
   "metadata": {},
   "outputs": [
    {
     "name": "stdout",
     "output_type": "stream",
     "text": [
      "[[0.5   0.375 0.125]\n",
      " [0.125 0.5   0.375]\n",
      " [0.375 0.125 0.5  ]]\n",
      "[[0.5   0.125]\n",
      " [0.375 0.5  ]]\n",
      "[[0.36221562 0.51702996 0.12075442]\n",
      " [0.82483737 0.15649458 0.01866805]\n",
      " [0.10686425 0.49248758 0.40064817]]\n",
      "[[0.34981157 0.39172194 0.17119917]\n",
      " [0.50263558 0.0748134  0.01669996]\n",
      " [0.14755285 0.53346466 0.81210087]]\n",
      "[[0.36221562 0.12075442]\n",
      " [0.10686425 0.40064817]]\n",
      "[[0.34981157 0.17119917]\n",
      " [0.14755285 0.81210087]]\n"
     ]
    }
   ],
   "source": [
    "# Creating Doubly Stochastic Matrix of form [[1-a-b b a][a 1-a-b b][b a 1-a-b]]\n",
    "\n",
    "A = np.random.randint(1,10,size=(3))\n",
    "Stochasticmat=np.array([A/A.sum()])\n",
    "Stochasticmatcol2=np.array([[Stochasticmat[0,2],Stochasticmat[0,0],Stochasticmat[0,1]]])\n",
    "Stochasticmatcol3=np.array([[Stochasticmat[0,1],Stochasticmat[0,2],Stochasticmat[0,0]]])\n",
    "DoublyStochasticmat=np.concatenate([Stochasticmat,Stochasticmatcol2,Stochasticmatcol3])\n",
    "DoublyStochasticmat=DoublyStochasticmat.reshape(3,3)\n",
    "print(DoublyStochasticmat)\n",
    "DoublyStochasticmat_submat=DoublyStochasticmat[[0,2]][:,[0,2]] # Generate Submatrix for Doubly stochastic Matrix\n",
    "print(DoublyStochasticmat_submat)\n",
    "\n",
    "# Creating Left And Right Stochastic Matrix\n",
    "\n",
    "A=np.random.rand(3,3)\n",
    "rightStochasticmat=A/A.sum(axis=1)[:,None]\n",
    "leftStochasticmat=A/A.sum(axis=0)[None,:]\n",
    "print(rightStochasticmat) # Right stochastic matrix where row sum is 1\n",
    "print(leftStochasticmat) # Left stochastic matrix where column sum is 1\n",
    "A_rightStochastic_submat=rightStochasticmat[[0,2]][:,[0,2]] # Generate Submatrix for Right stochastic Matrix\n",
    "print(A_rightStochastic_submat)\n",
    "A_leftStochastic_submat=leftStochasticmat[[0,2]][:,[0,2]] # Generate Submatrix for Left stochastic Matrix\n",
    "print(A_leftStochastic_submat)"
   ]
  },
  {
   "cell_type": "markdown",
   "metadata": {},
   "source": [
    "d) Create submatrix of given form when A is a Hankel matrix"
   ]
  },
  {
   "cell_type": "code",
   "execution_count": 38,
   "metadata": {},
   "outputs": [
    {
     "name": "stdout",
     "output_type": "stream",
     "text": [
      "[[0.81673737 0.60162469 0.66535507]\n",
      " [0.60162469 0.66535507 0.03791125]\n",
      " [0.66535507 0.03791125 0.81503111]]\n",
      "[[0.81673737 0.66535507]\n",
      " [0.66535507 0.81503111]]\n"
     ]
    }
   ],
   "source": [
    "m=3\n",
    "n=3\n",
    "y=np.random.rand(m+n-1)\n",
    "A = np.zeros((m,n))\n",
    "for i in range(m):\n",
    "    for j in range(n):\n",
    "        A[i][j] = y[i+j]  # Hankel Matrix\n",
    "print(A)\n",
    "A_hankel_submat=A[[0,2]][:,[0,2]] # Generate Submatrix for Hankel Matrix\n",
    "print(A_hankel_submat)"
   ]
  },
  {
   "cell_type": "markdown",
   "metadata": {},
   "source": [
    "4.a) Given dataset find the mean and standard deviation"
   ]
  },
  {
   "cell_type": "code",
   "execution_count": 7,
   "metadata": {},
   "outputs": [
    {
     "name": "stdout",
     "output_type": "stream",
     "text": [
      "[[ 1 -1  0  1  3]\n",
      " [ 2  3 -1 -4  4]\n",
      " [ 1  0  1  1 -2]]\n",
      "[[ 1  2  1]\n",
      " [-1  3  0]\n",
      " [ 0 -1  1]\n",
      " [ 1 -4  1]\n",
      " [ 3  4 -2]]\n",
      "[0.8 0.8 0.2]\n",
      "[1.32664992 2.92574777 1.16619038]\n",
      "[0.8 0.8 0.2]\n",
      "[1.32664992 2.92574777 1.16619038]\n"
     ]
    }
   ],
   "source": [
    "import numpy as np\n",
    "A=np.array([[1,-1,0,1,3],[2,3,-1,-4,4],[1,0,1,1,-2]])\n",
    "A=A.reshape(3,5)\n",
    "D=A.T\n",
    "print(A)\n",
    "print(D)\n",
    "\n",
    "# With mean and standard deviation formulas\n",
    "mean=np.sum(A,axis=1)/A.shape[1]\n",
    "print(mean)\n",
    "stddev=np.sqrt(np.sum((D-mean)**2,axis=0)/A.shape[1])\n",
    "print(stddev)\n",
    "\n",
    "# Computing mean and standard deviation through inbuilt libraries\n",
    "\n",
    "print(np.mean(A,axis=1))\n",
    "print(np.std(A,axis=1,dtype=np.float64))"
   ]
  },
  {
   "cell_type": "markdown",
   "metadata": {},
   "source": [
    "b) Nearest Neighbour of point (1,1,1) in DataSet"
   ]
  },
  {
   "cell_type": "code",
   "execution_count": 31,
   "metadata": {},
   "outputs": [
    {
     "name": "stdout",
     "output_type": "stream",
     "text": [
      "1.0\n",
      "Corresponding x,y,z coordinates for DataSet point nearest to (1,1,1) is (1,2,1)\n"
     ]
    }
   ],
   "source": [
    "x=np.array([1,1,1])\n",
    "min_val=np.finfo(np.float64).max\n",
    "for i in range(len(D)):\n",
    "    euclideanDistance=np.sqrt(np.sum((x-D[i])**2)) # euclidean norm taken to compute distance between the coordinates\n",
    "    if min_val>=euclideanDistance:\n",
    "        min_val=euclideanDistance\n",
    "        p=D[i]\n",
    "p=p.tolist()\n",
    "print(min_val)\n",
    "print(\"Corresponding x,y,z coordinates for DataSet point nearest to (1,1,1) is\",\"(\"+\",\".join(map(str, p))+\")\")"
   ]
  }
 ],
 "metadata": {
  "kernelspec": {
   "display_name": "Python 3",
   "language": "python",
   "name": "python3"
  },
  "language_info": {
   "codemirror_mode": {
    "name": "ipython",
    "version": 3
   },
   "file_extension": ".py",
   "mimetype": "text/x-python",
   "name": "python",
   "nbconvert_exporter": "python",
   "pygments_lexer": "ipython3",
   "version": "3.6.6"
  }
 },
 "nbformat": 4,
 "nbformat_minor": 2
}
